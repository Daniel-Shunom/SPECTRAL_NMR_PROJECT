{
 "cells": [
  {
   "cell_type": "markdown",
   "id": "63899944-eeb4-4990-b3f2-a159b6a04702",
   "metadata": {},
   "source": [
    "!sudo apt-get update\r\n",
    "!sudo apt-get install python3.9"
   ]
  },
  {
   "cell_type": "code",
   "execution_count": null,
   "id": "151460e5-3f48-4559-8536-20a9a45d9bd2",
   "metadata": {},
   "outputs": [],
   "source": [
    "1502"
   ]
  },
  {
   "cell_type": "code",
   "execution_count": null,
   "id": "ccfcaeca-ef3c-4fd4-9540-24e24f5558bb",
   "metadata": {},
   "outputs": [],
   "source": []
  }
 ],
 "metadata": {
  "kernelspec": {
   "display_name": "Python 3 (ipykernel)",
   "language": "python",
   "name": "python3"
  },
  "language_info": {
   "codemirror_mode": {
    "name": "ipython",
    "version": 3
   },
   "file_extension": ".py",
   "mimetype": "text/x-python",
   "name": "python",
   "nbconvert_exporter": "python",
   "pygments_lexer": "ipython3",
   "version": "3.10.12"
  }
 },
 "nbformat": 4,
 "nbformat_minor": 5
}
