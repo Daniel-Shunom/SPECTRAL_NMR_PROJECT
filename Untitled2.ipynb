{
 "cells": [
  {
   "cell_type": "code",
   "execution_count": 12,
   "id": "0358c054-a801-4224-bead-68f233aa8d48",
   "metadata": {},
   "outputs": [
    {
     "name": "stdout",
     "output_type": "stream",
     "text": [
      "Defaulting to user installation because normal site-packages is not writeable\n",
      "Requirement already satisfied: lazypredict in /home/workbench/.local/lib/python3.10/site-packages (0.2.12)\n",
      "Requirement already satisfied: click in /home/workbench/.local/lib/python3.10/site-packages (from lazypredict) (8.1.7)\n",
      "Requirement already satisfied: scikit-learn in /home/workbench/.local/lib/python3.10/site-packages (from lazypredict) (1.0.2)\n",
      "Requirement already satisfied: joblib in /home/workbench/.local/lib/python3.10/site-packages (from lazypredict) (1.4.2)\n",
      "Requirement already satisfied: pandas in /home/workbench/.local/lib/python3.10/site-packages (from lazypredict) (2.2.3)\n",
      "Requirement already satisfied: xgboost in /home/workbench/.local/lib/python3.10/site-packages (from lazypredict) (2.1.1)\n",
      "Requirement already satisfied: lightgbm in /home/workbench/.local/lib/python3.10/site-packages (from lazypredict) (4.5.0)\n",
      "Requirement already satisfied: tqdm in /home/workbench/.local/lib/python3.10/site-packages (from lazypredict) (4.66.5)\n",
      "Requirement already satisfied: scipy in /home/workbench/.local/lib/python3.10/site-packages (from lightgbm->lazypredict) (1.14.1)\n",
      "Requirement already satisfied: numpy>=1.17.0 in /home/workbench/.local/lib/python3.10/site-packages (from lightgbm->lazypredict) (2.1.1)\n",
      "Requirement already satisfied: python-dateutil>=2.8.2 in /usr/local/lib/python3.10/dist-packages (from pandas->lazypredict) (2.8.2)\n",
      "Requirement already satisfied: pytz>=2020.1 in /home/workbench/.local/lib/python3.10/site-packages (from pandas->lazypredict) (2024.2)\n",
      "Requirement already satisfied: tzdata>=2022.7 in /home/workbench/.local/lib/python3.10/site-packages (from pandas->lazypredict) (2024.2)\n",
      "Requirement already satisfied: threadpoolctl>=2.0.0 in /home/workbench/.local/lib/python3.10/site-packages (from scikit-learn->lazypredict) (3.5.0)\n",
      "Requirement already satisfied: nvidia-nccl-cu12 in /home/workbench/.local/lib/python3.10/site-packages (from xgboost->lazypredict) (2.23.4)\n",
      "Requirement already satisfied: six>=1.5 in /usr/local/lib/python3.10/dist-packages (from python-dateutil>=2.8.2->pandas->lazypredict) (1.16.0)\n"
     ]
    }
   ],
   "source": [
    "! pip install lazypredict"
   ]
  },
  {
   "cell_type": "code",
   "execution_count": 13,
   "id": "b009e330-c3a4-4dfe-8b35-31ecbd01ff0c",
   "metadata": {},
   "outputs": [
    {
     "name": "stdout",
     "output_type": "stream",
     "text": [
      "Defaulting to user installation because normal site-packages is not writeable\n",
      "Collecting scikit-learn==1.1.3\n",
      "  Using cached scikit_learn-1.1.3-cp310-cp310-manylinux_2_17_x86_64.manylinux2014_x86_64.whl (30.5 MB)\n",
      "Requirement already satisfied: joblib>=1.0.0 in /home/workbench/.local/lib/python3.10/site-packages (from scikit-learn==1.1.3) (1.4.2)\n",
      "Requirement already satisfied: scipy>=1.3.2 in /home/workbench/.local/lib/python3.10/site-packages (from scikit-learn==1.1.3) (1.14.1)\n",
      "Requirement already satisfied: numpy>=1.17.3 in /home/workbench/.local/lib/python3.10/site-packages (from scikit-learn==1.1.3) (2.1.1)\n",
      "Requirement already satisfied: threadpoolctl>=2.0.0 in /home/workbench/.local/lib/python3.10/site-packages (from scikit-learn==1.1.3) (3.5.0)\n",
      "Installing collected packages: scikit-learn\n",
      "  Attempting uninstall: scikit-learn\n",
      "    Found existing installation: scikit-learn 1.0.2\n",
      "    Uninstalling scikit-learn-1.0.2:\n",
      "      Successfully uninstalled scikit-learn-1.0.2\n",
      "Successfully installed scikit-learn-1.1.3\n"
     ]
    }
   ],
   "source": [
    "!pip install scikit-learn==1.1.3 # Install compatible version of scikit-learn"
   ]
  },
  {
   "cell_type": "code",
   "execution_count": 14,
   "id": "48d45570-e894-4706-ae59-8200f8184390",
   "metadata": {},
   "outputs": [
    {
     "name": "stdout",
     "output_type": "stream",
     "text": [
      "Defaulting to user installation because normal site-packages is not writeable\n",
      "Requirement already satisfied: dask[dataframe] in /home/workbench/.local/lib/python3.10/site-packages (2024.9.1)\n",
      "Requirement already satisfied: fsspec>=2021.09.0 in /home/workbench/.local/lib/python3.10/site-packages (from dask[dataframe]) (2024.9.0)\n",
      "Requirement already satisfied: importlib-metadata>=4.13.0 in /home/workbench/.local/lib/python3.10/site-packages (from dask[dataframe]) (8.5.0)\n",
      "Requirement already satisfied: cloudpickle>=3.0.0 in /home/workbench/.local/lib/python3.10/site-packages (from dask[dataframe]) (3.0.0)\n",
      "Requirement already satisfied: packaging>=20.0 in /usr/local/lib/python3.10/dist-packages (from dask[dataframe]) (23.2)\n",
      "Requirement already satisfied: partd>=1.4.0 in /home/workbench/.local/lib/python3.10/site-packages (from dask[dataframe]) (1.4.2)\n",
      "Requirement already satisfied: click>=8.1 in /home/workbench/.local/lib/python3.10/site-packages (from dask[dataframe]) (8.1.7)\n",
      "Requirement already satisfied: toolz>=0.10.0 in /home/workbench/.local/lib/python3.10/site-packages (from dask[dataframe]) (0.12.1)\n",
      "Requirement already satisfied: pyyaml>=5.3.1 in /usr/local/lib/python3.10/dist-packages (from dask[dataframe]) (6.0.1)\n",
      "Requirement already satisfied: dask-expr<1.2,>=1.1 in /home/workbench/.local/lib/python3.10/site-packages (from dask[dataframe]) (1.1.15)\n",
      "Requirement already satisfied: pandas>=2.0 in /home/workbench/.local/lib/python3.10/site-packages (from dask[dataframe]) (2.2.3)\n",
      "Requirement already satisfied: pyarrow>=14.0.1 in /home/workbench/.local/lib/python3.10/site-packages (from dask-expr<1.2,>=1.1->dask[dataframe]) (17.0.0)\n",
      "Requirement already satisfied: zipp>=3.20 in /home/workbench/.local/lib/python3.10/site-packages (from importlib-metadata>=4.13.0->dask[dataframe]) (3.20.2)\n",
      "Requirement already satisfied: python-dateutil>=2.8.2 in /usr/local/lib/python3.10/dist-packages (from pandas>=2.0->dask[dataframe]) (2.8.2)\n",
      "Requirement already satisfied: tzdata>=2022.7 in /home/workbench/.local/lib/python3.10/site-packages (from pandas>=2.0->dask[dataframe]) (2024.2)\n",
      "Requirement already satisfied: pytz>=2020.1 in /home/workbench/.local/lib/python3.10/site-packages (from pandas>=2.0->dask[dataframe]) (2024.2)\n",
      "Requirement already satisfied: numpy>=1.22.4 in /home/workbench/.local/lib/python3.10/site-packages (from pandas>=2.0->dask[dataframe]) (2.1.1)\n",
      "Requirement already satisfied: locket in /home/workbench/.local/lib/python3.10/site-packages (from partd>=1.4.0->dask[dataframe]) (1.0.0)\n",
      "Requirement already satisfied: six>=1.5 in /usr/local/lib/python3.10/dist-packages (from python-dateutil>=2.8.2->pandas>=2.0->dask[dataframe]) (1.16.0)\n"
     ]
    }
   ],
   "source": [
    "!pip install dask[dataframe]"
   ]
  },
  {
   "cell_type": "code",
   "execution_count": 15,
   "id": "eb2518e6-3e6a-4161-adb3-b602ae81debc",
   "metadata": {},
   "outputs": [
    {
     "ename": "TypeError",
     "evalue": "OneHotEncoder.__init__() got an unexpected keyword argument 'sparse'",
     "output_type": "error",
     "traceback": [
      "\u001b[0;31m---------------------------------------------------------------------------\u001b[0m",
      "\u001b[0;31mTypeError\u001b[0m                                 Traceback (most recent call last)",
      "Cell \u001b[0;32mIn[15], line 5\u001b[0m\n\u001b[1;32m      3\u001b[0m \u001b[38;5;28;01mfrom\u001b[39;00m \u001b[38;5;21;01msklearn\u001b[39;00m\u001b[38;5;21;01m.\u001b[39;00m\u001b[38;5;21;01mmodel_selection\u001b[39;00m \u001b[38;5;28;01mimport\u001b[39;00m train_test_split\n\u001b[1;32m      4\u001b[0m \u001b[38;5;28;01mimport\u001b[39;00m \u001b[38;5;21;01mlazypredict\u001b[39;00m\n\u001b[0;32m----> 5\u001b[0m \u001b[38;5;28;01mfrom\u001b[39;00m \u001b[38;5;21;01mlazypredict\u001b[39;00m\u001b[38;5;21;01m.\u001b[39;00m\u001b[38;5;21;01mSupervised\u001b[39;00m \u001b[38;5;28;01mimport\u001b[39;00m LazyRegressor\n",
      "File \u001b[0;32m~/.local/lib/python3.10/site-packages/lazypredict/Supervised.py:98\u001b[0m\n\u001b[1;32m     89\u001b[0m \u001b[38;5;66;03m# CLASSIFIERS.append(('CatBoostClassifier',catboost.CatBoostClassifier))\u001b[39;00m\n\u001b[1;32m     91\u001b[0m numeric_transformer \u001b[38;5;241m=\u001b[39m Pipeline(\n\u001b[1;32m     92\u001b[0m     steps\u001b[38;5;241m=\u001b[39m[(\u001b[38;5;124m\"\u001b[39m\u001b[38;5;124mimputer\u001b[39m\u001b[38;5;124m\"\u001b[39m, SimpleImputer(strategy\u001b[38;5;241m=\u001b[39m\u001b[38;5;124m\"\u001b[39m\u001b[38;5;124mmean\u001b[39m\u001b[38;5;124m\"\u001b[39m)), (\u001b[38;5;124m\"\u001b[39m\u001b[38;5;124mscaler\u001b[39m\u001b[38;5;124m\"\u001b[39m, StandardScaler())]\n\u001b[1;32m     93\u001b[0m )\n\u001b[1;32m     95\u001b[0m categorical_transformer_low \u001b[38;5;241m=\u001b[39m Pipeline(\n\u001b[1;32m     96\u001b[0m     steps\u001b[38;5;241m=\u001b[39m[\n\u001b[1;32m     97\u001b[0m         (\u001b[38;5;124m\"\u001b[39m\u001b[38;5;124mimputer\u001b[39m\u001b[38;5;124m\"\u001b[39m, SimpleImputer(strategy\u001b[38;5;241m=\u001b[39m\u001b[38;5;124m\"\u001b[39m\u001b[38;5;124mconstant\u001b[39m\u001b[38;5;124m\"\u001b[39m, fill_value\u001b[38;5;241m=\u001b[39m\u001b[38;5;124m\"\u001b[39m\u001b[38;5;124mmissing\u001b[39m\u001b[38;5;124m\"\u001b[39m)),\n\u001b[0;32m---> 98\u001b[0m         (\u001b[38;5;124m\"\u001b[39m\u001b[38;5;124mencoding\u001b[39m\u001b[38;5;124m\"\u001b[39m, \u001b[43mOneHotEncoder\u001b[49m\u001b[43m(\u001b[49m\u001b[43mhandle_unknown\u001b[49m\u001b[38;5;241;43m=\u001b[39;49m\u001b[38;5;124;43m\"\u001b[39;49m\u001b[38;5;124;43mignore\u001b[39;49m\u001b[38;5;124;43m\"\u001b[39;49m\u001b[43m,\u001b[49m\u001b[43m \u001b[49m\u001b[43msparse\u001b[49m\u001b[38;5;241;43m=\u001b[39;49m\u001b[38;5;28;43;01mFalse\u001b[39;49;00m\u001b[43m)\u001b[49m),\n\u001b[1;32m     99\u001b[0m     ]\n\u001b[1;32m    100\u001b[0m )\n\u001b[1;32m    102\u001b[0m categorical_transformer_high \u001b[38;5;241m=\u001b[39m Pipeline(\n\u001b[1;32m    103\u001b[0m     steps\u001b[38;5;241m=\u001b[39m[\n\u001b[1;32m    104\u001b[0m         (\u001b[38;5;124m\"\u001b[39m\u001b[38;5;124mimputer\u001b[39m\u001b[38;5;124m\"\u001b[39m, SimpleImputer(strategy\u001b[38;5;241m=\u001b[39m\u001b[38;5;124m\"\u001b[39m\u001b[38;5;124mconstant\u001b[39m\u001b[38;5;124m\"\u001b[39m, fill_value\u001b[38;5;241m=\u001b[39m\u001b[38;5;124m\"\u001b[39m\u001b[38;5;124mmissing\u001b[39m\u001b[38;5;124m\"\u001b[39m)),\n\u001b[0;32m   (...)\u001b[0m\n\u001b[1;32m    107\u001b[0m     ]\n\u001b[1;32m    108\u001b[0m )\n\u001b[1;32m    111\u001b[0m \u001b[38;5;66;03m# Helper function\u001b[39;00m\n",
      "\u001b[0;31mTypeError\u001b[0m: OneHotEncoder.__init__() got an unexpected keyword argument 'sparse'"
     ]
    }
   ],
   "source": [
    "import pandas as pd\n",
    "import seaborn as sns\n",
    "from sklearn.model_selection import train_test_split\n",
    "import lazypredict\n",
    "from lazypredict.Supervised import LazyRegressor"
   ]
  },
  {
   "cell_type": "code",
   "execution_count": null,
   "id": "a5e7aaf9-acd9-4416-af5c-253e0c34289d",
   "metadata": {},
   "outputs": [],
   "source": []
  }
 ],
 "metadata": {
  "kernelspec": {
   "display_name": "Python 3 (ipykernel)",
   "language": "python",
   "name": "python3"
  },
  "language_info": {
   "codemirror_mode": {
    "name": "ipython",
    "version": 3
   },
   "file_extension": ".py",
   "mimetype": "text/x-python",
   "name": "python",
   "nbconvert_exporter": "python",
   "pygments_lexer": "ipython3",
   "version": "3.10.12"
  }
 },
 "nbformat": 4,
 "nbformat_minor": 5
}
