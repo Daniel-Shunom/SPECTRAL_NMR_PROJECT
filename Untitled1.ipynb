{
 "cells": [
  {
   "cell_type": "code",
   "execution_count": 9,
   "id": "14a3b8c5-03a8-447d-8851-c015d7a58bc0",
   "metadata": {},
   "outputs": [],
   "source": [
    "import pandas as pd"
   ]
  },
  {
   "cell_type": "code",
   "execution_count": 7,
   "id": "9e6d5ecc-64a0-4a51-8f01-a1d600b39605",
   "metadata": {},
   "outputs": [],
   "source": [
    "import os"
   ]
  },
  {
   "cell_type": "code",
   "execution_count": 4,
   "id": "2a1137c8-4c05-4cfc-bdbe-023420151f5f",
   "metadata": {},
   "outputs": [],
   "source": [
    "import zipfile"
   ]
  },
  {
   "cell_type": "code",
   "execution_count": 1,
   "id": "bfeb5e05-dd1e-495d-a249-4255abfb39d6",
   "metadata": {},
   "outputs": [
    {
     "name": "stdout",
     "output_type": "stream",
     "text": [
      "--2024-09-29 03:34:30--  https://github.com/dataprofessor/bioinformatics/raw/master/padel.zip\n",
      "Resolving github.com (github.com)... 140.82.113.3\n",
      "Connecting to github.com (github.com)|140.82.113.3|:443... connected.\n",
      "HTTP request sent, awaiting response... 302 Found\n",
      "Location: https://raw.githubusercontent.com/dataprofessor/bioinformatics/master/padel.zip [following]\n",
      "--2024-09-29 03:34:30--  https://raw.githubusercontent.com/dataprofessor/bioinformatics/master/padel.zip\n",
      "Resolving raw.githubusercontent.com (raw.githubusercontent.com)... 185.199.108.133, 185.199.110.133, 185.199.109.133, ...\n",
      "Connecting to raw.githubusercontent.com (raw.githubusercontent.com)|185.199.108.133|:443... connected.\n",
      "HTTP request sent, awaiting response... 200 OK\n",
      "Length: 25768637 (25M) [application/zip]\n",
      "Saving to: ‘padel.zip’\n",
      "\n",
      "padel.zip           100%[===================>]  24.57M  13.6MB/s    in 1.8s    \n",
      "\n",
      "2024-09-29 03:34:32 (13.6 MB/s) - ‘padel.zip’ saved [25768637/25768637]\n",
      "\n",
      "--2024-09-29 03:34:32--  https://github.com/dataprofessor/bioinformatics/raw/master/padel.sh\n",
      "Resolving github.com (github.com)... 140.82.113.3\n",
      "Connecting to github.com (github.com)|140.82.113.3|:443... connected.\n",
      "HTTP request sent, awaiting response... 302 Found\n",
      "Location: https://raw.githubusercontent.com/dataprofessor/bioinformatics/master/padel.sh [following]\n",
      "--2024-09-29 03:34:32--  https://raw.githubusercontent.com/dataprofessor/bioinformatics/master/padel.sh\n",
      "Resolving raw.githubusercontent.com (raw.githubusercontent.com)... 185.199.110.133, 185.199.109.133, 185.199.111.133, ...\n",
      "Connecting to raw.githubusercontent.com (raw.githubusercontent.com)|185.199.110.133|:443... connected.\n",
      "HTTP request sent, awaiting response... 200 OK\n",
      "Length: 231 [text/plain]\n",
      "Saving to: ‘padel.sh’\n",
      "\n",
      "padel.sh            100%[===================>]     231  --.-KB/s    in 0s      \n",
      "\n",
      "2024-09-29 03:34:33 (10.9 MB/s) - ‘padel.sh’ saved [231/231]\n",
      "\n"
     ]
    }
   ],
   "source": [
    "! wget https://github.com/dataprofessor/bioinformatics/raw/master/padel.zip\n",
    "! wget https://github.com/dataprofessor/bioinformatics/raw/master/padel.sh"
   ]
  },
  {
   "cell_type": "code",
   "execution_count": 8,
   "id": "ec1b4b85-4a60-4ced-8852-8abf2df4e8d2",
   "metadata": {
    "collapsed": true,
    "jupyter": {
     "outputs_hidden": true
    },
    "scrolled": true
   },
   "outputs": [
    {
     "name": "stdout",
     "output_type": "stream",
     "text": [
      "Extracted files:\n",
      "PaDEL-Descriptor\n",
      "__MACOSX\n"
     ]
    }
   ],
   "source": [
    "zip_path = \"padel.zip\"\n",
    "extract_dir = \"padel_extracted\"\n",
    "\n",
    "with zipfile.ZipFile(zip_path, 'r') as zip_ref:\n",
    "    zip_ref.extractall(extract_dir)\n",
    "\n",
    "print(\"Extracted files:\")\n",
    "#for filename in os.listdir(extract_dir):\n",
    "#    print(filename)"
   ]
  },
  {
   "cell_type": "code",
   "execution_count": 10,
   "id": "36859464-9f82-45e1-96cb-05fca142aeed",
   "metadata": {},
   "outputs": [
    {
     "data": {
      "text/html": [
       "<div>\n",
       "<style scoped>\n",
       "    .dataframe tbody tr th:only-of-type {\n",
       "        vertical-align: middle;\n",
       "    }\n",
       "\n",
       "    .dataframe tbody tr th {\n",
       "        vertical-align: top;\n",
       "    }\n",
       "\n",
       "    .dataframe thead th {\n",
       "        text-align: right;\n",
       "    }\n",
       "</style>\n",
       "<table border=\"1\" class=\"dataframe\">\n",
       "  <thead>\n",
       "    <tr style=\"text-align: right;\">\n",
       "      <th></th>\n",
       "      <th>molecule_chembl_id</th>\n",
       "      <th>canonical_smiles</th>\n",
       "      <th>bioactivity_class</th>\n",
       "      <th>MW</th>\n",
       "      <th>LogP</th>\n",
       "      <th>NumHDonors</th>\n",
       "      <th>NumHAcceptors</th>\n",
       "      <th>pIC50</th>\n",
       "    </tr>\n",
       "  </thead>\n",
       "  <tbody>\n",
       "    <tr>\n",
       "      <th>0</th>\n",
       "      <td>CHEMBL29097</td>\n",
       "      <td>CC(C)c1ccc2c(c1)c(SC(C)(C)C)c(CC(C)(C)C(=O)O)n...</td>\n",
       "      <td>inactive</td>\n",
       "      <td>472.094</td>\n",
       "      <td>8.01030</td>\n",
       "      <td>1.0</td>\n",
       "      <td>3.0</td>\n",
       "      <td>4.378410</td>\n",
       "    </tr>\n",
       "    <tr>\n",
       "      <th>1</th>\n",
       "      <td>CHEMBL60718</td>\n",
       "      <td>Cc1ccc(S(=O)(=O)N[C@@H](Cc2ccccc2)C(=O)CCl)cc1</td>\n",
       "      <td>inactive</td>\n",
       "      <td>351.855</td>\n",
       "      <td>2.69252</td>\n",
       "      <td>1.0</td>\n",
       "      <td>3.0</td>\n",
       "      <td>4.328411</td>\n",
       "    </tr>\n",
       "    <tr>\n",
       "      <th>2</th>\n",
       "      <td>CHEMBL267014</td>\n",
       "      <td>Clc1ccc(N2CCN(Cc3c[nH]c4ncccc34)CC2)cc1</td>\n",
       "      <td>inactive</td>\n",
       "      <td>326.831</td>\n",
       "      <td>3.53850</td>\n",
       "      <td>1.0</td>\n",
       "      <td>3.0</td>\n",
       "      <td>4.378410</td>\n",
       "    </tr>\n",
       "    <tr>\n",
       "      <th>3</th>\n",
       "      <td>CHEMBL34241</td>\n",
       "      <td>CC(=O)c1c(O)c(C)c(O)c(Cc2c(O)c3c(c(C(=O)/C=C/c...</td>\n",
       "      <td>inactive</td>\n",
       "      <td>516.546</td>\n",
       "      <td>5.39672</td>\n",
       "      <td>5.0</td>\n",
       "      <td>8.0</td>\n",
       "      <td>4.378410</td>\n",
       "    </tr>\n",
       "    <tr>\n",
       "      <th>4</th>\n",
       "      <td>CHEMBL1475137</td>\n",
       "      <td>CCCc1c(OCCCOc2ccc(OCC(=O)O)cc2)ccc(CC=O)c1O</td>\n",
       "      <td>inactive</td>\n",
       "      <td>402.443</td>\n",
       "      <td>3.39740</td>\n",
       "      <td>2.0</td>\n",
       "      <td>6.0</td>\n",
       "      <td>4.228410</td>\n",
       "    </tr>\n",
       "    <tr>\n",
       "      <th>...</th>\n",
       "      <td>...</td>\n",
       "      <td>...</td>\n",
       "      <td>...</td>\n",
       "      <td>...</td>\n",
       "      <td>...</td>\n",
       "      <td>...</td>\n",
       "      <td>...</td>\n",
       "      <td>...</td>\n",
       "    </tr>\n",
       "    <tr>\n",
       "      <th>17415</th>\n",
       "      <td>CHEMBL4743789</td>\n",
       "      <td>Cc1ccc2nc(N)c(-c3ccc(O)cc3)n2c1</td>\n",
       "      <td>inactive</td>\n",
       "      <td>239.278</td>\n",
       "      <td>2.59752</td>\n",
       "      <td>2.0</td>\n",
       "      <td>4.0</td>\n",
       "      <td>4.000000</td>\n",
       "    </tr>\n",
       "    <tr>\n",
       "      <th>17416</th>\n",
       "      <td>CHEMBL4781213</td>\n",
       "      <td>Cc1ccn2c(-c3ccc(O)cc3)c(N)nc2c1</td>\n",
       "      <td>inactive</td>\n",
       "      <td>239.278</td>\n",
       "      <td>2.59752</td>\n",
       "      <td>2.0</td>\n",
       "      <td>4.0</td>\n",
       "      <td>4.000000</td>\n",
       "    </tr>\n",
       "    <tr>\n",
       "      <th>17417</th>\n",
       "      <td>CHEMBL4742897</td>\n",
       "      <td>Cc1cccn2c(-c3ccc(O)cc3)c(N)nc12</td>\n",
       "      <td>inactive</td>\n",
       "      <td>239.278</td>\n",
       "      <td>2.59752</td>\n",
       "      <td>2.0</td>\n",
       "      <td>4.0</td>\n",
       "      <td>4.000000</td>\n",
       "    </tr>\n",
       "    <tr>\n",
       "      <th>17418</th>\n",
       "      <td>CHEMBL4777381</td>\n",
       "      <td>Nc1nc2cc(C3CCNCC3)ccn2c1-c1ccc(O)cc1</td>\n",
       "      <td>inactive</td>\n",
       "      <td>308.385</td>\n",
       "      <td>2.75610</td>\n",
       "      <td>3.0</td>\n",
       "      <td>5.0</td>\n",
       "      <td>4.000000</td>\n",
       "    </tr>\n",
       "    <tr>\n",
       "      <th>17419</th>\n",
       "      <td>CHEMBL5172138</td>\n",
       "      <td>O=C1c2ccccc2C(=O)c2oc(-c3cccnc3)nc21</td>\n",
       "      <td>active</td>\n",
       "      <td>276.251</td>\n",
       "      <td>2.51200</td>\n",
       "      <td>0.0</td>\n",
       "      <td>5.0</td>\n",
       "      <td>6.004365</td>\n",
       "    </tr>\n",
       "  </tbody>\n",
       "</table>\n",
       "<p>17420 rows × 8 columns</p>\n",
       "</div>"
      ],
      "text/plain": [
       "      molecule_chembl_id                                   canonical_smiles  \\\n",
       "0            CHEMBL29097  CC(C)c1ccc2c(c1)c(SC(C)(C)C)c(CC(C)(C)C(=O)O)n...   \n",
       "1            CHEMBL60718     Cc1ccc(S(=O)(=O)N[C@@H](Cc2ccccc2)C(=O)CCl)cc1   \n",
       "2           CHEMBL267014            Clc1ccc(N2CCN(Cc3c[nH]c4ncccc34)CC2)cc1   \n",
       "3            CHEMBL34241  CC(=O)c1c(O)c(C)c(O)c(Cc2c(O)c3c(c(C(=O)/C=C/c...   \n",
       "4          CHEMBL1475137        CCCc1c(OCCCOc2ccc(OCC(=O)O)cc2)ccc(CC=O)c1O   \n",
       "...                  ...                                                ...   \n",
       "17415      CHEMBL4743789                    Cc1ccc2nc(N)c(-c3ccc(O)cc3)n2c1   \n",
       "17416      CHEMBL4781213                    Cc1ccn2c(-c3ccc(O)cc3)c(N)nc2c1   \n",
       "17417      CHEMBL4742897                    Cc1cccn2c(-c3ccc(O)cc3)c(N)nc12   \n",
       "17418      CHEMBL4777381               Nc1nc2cc(C3CCNCC3)ccn2c1-c1ccc(O)cc1   \n",
       "17419      CHEMBL5172138               O=C1c2ccccc2C(=O)c2oc(-c3cccnc3)nc21   \n",
       "\n",
       "      bioactivity_class       MW     LogP  NumHDonors  NumHAcceptors     pIC50  \n",
       "0              inactive  472.094  8.01030         1.0            3.0  4.378410  \n",
       "1              inactive  351.855  2.69252         1.0            3.0  4.328411  \n",
       "2              inactive  326.831  3.53850         1.0            3.0  4.378410  \n",
       "3              inactive  516.546  5.39672         5.0            8.0  4.378410  \n",
       "4              inactive  402.443  3.39740         2.0            6.0  4.228410  \n",
       "...                 ...      ...      ...         ...            ...       ...  \n",
       "17415          inactive  239.278  2.59752         2.0            4.0  4.000000  \n",
       "17416          inactive  239.278  2.59752         2.0            4.0  4.000000  \n",
       "17417          inactive  239.278  2.59752         2.0            4.0  4.000000  \n",
       "17418          inactive  308.385  2.75610         3.0            5.0  4.000000  \n",
       "17419            active  276.251  2.51200         0.0            5.0  6.004365  \n",
       "\n",
       "[17420 rows x 8 columns]"
      ]
     },
     "execution_count": 10,
     "metadata": {},
     "output_type": "execute_result"
    }
   ],
   "source": [
    "processed_df = pd.read_csv('UBQTN_processed_allBioactivity.csv')\n",
    "processed_df"
   ]
  },
  {
   "cell_type": "code",
   "execution_count": 17,
   "id": "8a10acd8-56dd-4ba9-b6db-869e9e0ae667",
   "metadata": {},
   "outputs": [],
   "source": [
    "selection = ['canonical_smiles','molecule_chembl_id']\n",
    "df3_selection = processed_df[selection]\n",
    "df3_selection.to_csv('molecule.smi', sep='\\t', index=False, header=False)"
   ]
  },
  {
   "cell_type": "code",
   "execution_count": 18,
   "id": "c1c60ebc-ae3f-4e4c-b8b7-93b1c62efe5c",
   "metadata": {},
   "outputs": [
    {
     "name": "stdout",
     "output_type": "stream",
     "text": [
      "CC(C)c1ccc2c(c1)c(SC(C)(C)C)c(CC(C)(C)C(=O)O)n2Cc1ccc(Cl)cc1\tCHEMBL29097\n",
      "Cc1ccc(S(=O)(=O)N[C@@H](Cc2ccccc2)C(=O)CCl)cc1\tCHEMBL60718\n",
      "Clc1ccc(N2CCN(Cc3c[nH]c4ncccc34)CC2)cc1\tCHEMBL267014\n",
      "CC(=O)c1c(O)c(C)c(O)c(Cc2c(O)c3c(c(C(=O)/C=C/c4ccccc4)c2O)OC(C)(C)C=C3)c1O\tCHEMBL34241\n",
      "CCCc1c(OCCCOc2ccc(OCC(=O)O)cc2)ccc(CC=O)c1O\tCHEMBL1475137\n",
      "cat: write error: Broken pipe\n"
     ]
    }
   ],
   "source": [
    "! cat molecule.smi | head -5"
   ]
  },
  {
   "cell_type": "code",
   "execution_count": 19,
   "id": "e3c76f5c-85b9-491f-9b35-7fdd4d2eb31a",
   "metadata": {},
   "outputs": [
    {
     "name": "stdout",
     "output_type": "stream",
     "text": [
      "17420\n"
     ]
    }
   ],
   "source": [
    "! cat molecule.smi | wc -l"
   ]
  },
  {
   "cell_type": "code",
   "execution_count": 20,
   "id": "133bd097-f322-450e-a5d5-75238195159d",
   "metadata": {},
   "outputs": [
    {
     "name": "stdout",
     "output_type": "stream",
     "text": [
      "java -Xms1G -Xmx1G -Djava.awt.headless=true -jar ./PaDEL-Descriptor/PaDEL-Descriptor.jar -removesalt -standardizenitro -fingerprints -descriptortypes ./PaDEL-Descriptor/PubchemFingerprinter.xml -dir ./ -file descriptors_output.csv\n"
     ]
    }
   ],
   "source": [
    "! cat padel.sh"
   ]
  },
  {
   "cell_type": "code",
   "execution_count": 21,
   "id": "df9a13df-2a73-4394-9789-8f976170244f",
   "metadata": {},
   "outputs": [
    {
     "name": "stdout",
     "output_type": "stream",
     "text": [
      "padel.sh: line 1: java: command not found\n"
     ]
    }
   ],
   "source": [
    "! bash padel.sh"
   ]
  },
  {
   "cell_type": "code",
   "execution_count": null,
   "id": "473aa6ae-7ab5-45e6-8d57-c207da2dca7a",
   "metadata": {},
   "outputs": [],
   "source": []
  },
  {
   "cell_type": "code",
   "execution_count": null,
   "id": "ca225516-6971-4335-80d7-89ef0422f99a",
   "metadata": {},
   "outputs": [],
   "source": []
  }
 ],
 "metadata": {
  "kernelspec": {
   "display_name": "Python 3 (ipykernel)",
   "language": "python",
   "name": "python3"
  },
  "language_info": {
   "codemirror_mode": {
    "name": "ipython",
    "version": 3
   },
   "file_extension": ".py",
   "mimetype": "text/x-python",
   "name": "python",
   "nbconvert_exporter": "python",
   "pygments_lexer": "ipython3",
   "version": "3.10.12"
  }
 },
 "nbformat": 4,
 "nbformat_minor": 5
}
